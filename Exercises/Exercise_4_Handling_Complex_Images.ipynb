{
  "nbformat": 4,
  "nbformat_minor": 0,
  "metadata": {
    "colab": {
      "name": "Exercise 4 - Handling Complex Images.ipynb",
      "provenance": [],
      "authorship_tag": "ABX9TyOqK5WWIJFLVLj7IX8LYlDk",
      "include_colab_link": true
    },
    "kernelspec": {
      "name": "python3",
      "display_name": "Python 3"
    },
    "language_info": {
      "name": "python"
    }
  },
  "cells": [
    {
      "cell_type": "markdown",
      "metadata": {
        "id": "view-in-github",
        "colab_type": "text"
      },
      "source": [
        "<a href=\"https://colab.research.google.com/github/juneilsam/TensorFlowDeveloper/blob/main/Exercises/Exercise_4_Handling_Complex_Images.ipynb\" target=\"_parent\"><img src=\"https://colab.research.google.com/assets/colab-badge.svg\" alt=\"Open In Colab\"/></a>"
      ]
    },
    {
      "cell_type": "markdown",
      "metadata": {
        "id": "Z_kgSwEvSdiu"
      },
      "source": [
        "[원작자 깃헙](https://github.com/lmoroney/dlaicourse)"
      ]
    },
    {
      "cell_type": "code",
      "metadata": {
        "id": "psYVGUO9SZe_"
      },
      "source": [
        "#@title Licensed under the Apache License, Version 2.0 (the \"License\");\n",
        "# you may not use this file except in compliance with the License.\n",
        "# You may obtain a copy of the License at\n",
        "#\n",
        "# https://www.apache.org/licenses/LICENSE-2.0\n",
        "#\n",
        "# Unless required by applicable law or agreed to in writing, software\n",
        "# distributed under the License is distributed on an \"AS IS\" BASIS,\n",
        "# WITHOUT WARRANTIES OR CONDITIONS OF ANY KIND, either express or implied.\n",
        "# See the License for the specific language governing permissions and\n",
        "# limitations under the License."
      ],
      "execution_count": null,
      "outputs": []
    },
    {
      "cell_type": "code",
      "metadata": {
        "id": "8ZGHYrj6Sfse"
      },
      "source": [
        "import tensorflow as tf\n",
        "import os\n",
        "import zipfile"
      ],
      "execution_count": 1,
      "outputs": []
    },
    {
      "cell_type": "code",
      "metadata": {
        "id": "F3U8FdzJSks7"
      },
      "source": [
        "DESIRED_ACCURACY = 0.999"
      ],
      "execution_count": 2,
      "outputs": []
    },
    {
      "cell_type": "code",
      "metadata": {
        "colab": {
          "base_uri": "https://localhost:8080/"
        },
        "id": "LmIf-BJXSpOH",
        "outputId": "7ed57fda-4f97-4def-84ff-e8cfe1109bf0"
      },
      "source": [
        "!wget --no-check-certificate \\\n",
        "    \"https://storage.googleapis.com/laurencemoroney-blog.appspot.com/happy-or-sad.zip\" \\\n",
        "    -O \"/tmp/happy-or-sad.zip\""
      ],
      "execution_count": 6,
      "outputs": [
        {
          "output_type": "stream",
          "name": "stdout",
          "text": [
            "--2021-11-28 11:29:25--  https://storage.googleapis.com/laurencemoroney-blog.appspot.com/happy-or-sad.zip\n",
            "Resolving storage.googleapis.com (storage.googleapis.com)... 142.250.97.128, 172.217.193.128, 172.217.204.128, ...\n",
            "Connecting to storage.googleapis.com (storage.googleapis.com)|142.250.97.128|:443... connected.\n",
            "HTTP request sent, awaiting response... 200 OK\n",
            "Length: 2670333 (2.5M) [application/zip]\n",
            "Saving to: ‘/tmp/happy-or-sad.zip’\n",
            "\n",
            "\r/tmp/happy-or-sad.z   0%[                    ]       0  --.-KB/s               \r/tmp/happy-or-sad.z 100%[===================>]   2.55M  --.-KB/s    in 0.01s   \n",
            "\n",
            "2021-11-28 11:29:25 (178 MB/s) - ‘/tmp/happy-or-sad.zip’ saved [2670333/2670333]\n",
            "\n"
          ]
        }
      ]
    },
    {
      "cell_type": "code",
      "metadata": {
        "id": "XVapm3meS7eE"
      },
      "source": [
        "zip_ref = zipfile.ZipFile(\"/tmp/happy-or-sad.zip\", \"r\")\n",
        "zip_ref.extractall(\"/tmp/h-or-s\")\n",
        "zip_ref.close()"
      ],
      "execution_count": 13,
      "outputs": []
    },
    {
      "cell_type": "code",
      "metadata": {
        "id": "GsY02eDXTcK-"
      },
      "source": [
        "class myCallback(tf.keras.callbacks.Callback):\n",
        "    def on_epoch_end(self, epoch, logs={}):\n",
        "        if(logs.get('accuracy')>DESIRED_ACCURACY):\n",
        "            print(\"\\nReached 99.9% accuracy so cancelling training!\")\n",
        "            self.model.stop_training = True"
      ],
      "execution_count": 8,
      "outputs": []
    },
    {
      "cell_type": "code",
      "metadata": {
        "id": "SbKt1BO7Uje8"
      },
      "source": [
        "callbacks = myCallback()"
      ],
      "execution_count": 9,
      "outputs": []
    },
    {
      "cell_type": "code",
      "metadata": {
        "id": "4VMXZgJGUmWx"
      },
      "source": [
        "model = tf.keras.models.Sequential([\n",
        "                                    tf.keras.layers.Conv2D(16, (3,3), activation='relu', input_shape=(150, 150, 3)),\n",
        "                                    tf.keras.layers.MaxPooling2D(2, 2),\n",
        "                                    tf.keras.layers.Conv2D(32, (3,3), activation='relu'),\n",
        "                                    tf.keras.layers.MaxPooling2D(2, 2),\n",
        "                                    tf.keras.layers.Conv2D(32, (3,3), activation='relu'),\n",
        "                                    tf.keras.layers.MaxPooling2D(2, 2),\n",
        "                                    tf.keras.layers.Flatten(),\n",
        "                                    tf.keras.layers.Dense(512, activation='relu'),\n",
        "                                    tf.keras.layers.Dense(1, activation='sigmoid')\n",
        "])"
      ],
      "execution_count": 10,
      "outputs": []
    },
    {
      "cell_type": "code",
      "metadata": {
        "id": "CxhrffIncOOf"
      },
      "source": [
        "from tensorflow.keras.optimizers import RMSprop"
      ],
      "execution_count": 16,
      "outputs": []
    },
    {
      "cell_type": "code",
      "metadata": {
        "id": "GvczUN6-cUQM"
      },
      "source": [
        "model.compile(loss='binary_crossentropy',\n",
        "              optimizer=RMSprop(learning_rate=0.001),\n",
        "              metrics=['accuracy'])"
      ],
      "execution_count": 19,
      "outputs": []
    },
    {
      "cell_type": "code",
      "metadata": {
        "id": "bEz-Cs7VY7ri"
      },
      "source": [
        "from tensorflow.keras.preprocessing.image import ImageDataGenerator"
      ],
      "execution_count": 11,
      "outputs": []
    },
    {
      "cell_type": "code",
      "metadata": {
        "colab": {
          "base_uri": "https://localhost:8080/"
        },
        "id": "PQbNU330bPRC",
        "outputId": "851f570e-d432-4096-c529-678331f22a90"
      },
      "source": [
        "train_datagen = ImageDataGenerator(rescale=1/255)\n",
        "\n",
        "train_generator = train_datagen.flow_from_directory(\n",
        "    \"/tmp/h-or-s\",\n",
        "    target_size=(150, 150),\n",
        "    batch_size=10,\n",
        "    class_mode='binary'\n",
        ")"
      ],
      "execution_count": 14,
      "outputs": [
        {
          "output_type": "stream",
          "name": "stdout",
          "text": [
            "Found 80 images belonging to 2 classes.\n"
          ]
        }
      ]
    },
    {
      "cell_type": "code",
      "metadata": {
        "colab": {
          "base_uri": "https://localhost:8080/"
        },
        "id": "xuuFlN9Cbw-W",
        "outputId": "ddb75655-04a9-4b36-e831-3daf0f00fac9"
      },
      "source": [
        "history = model.fit(\n",
        "    train_generator,\n",
        "    steps_per_epoch=8,\n",
        "    epochs=15,\n",
        "    verbose=1,\n",
        "    callbacks=[callbacks]\n",
        ")"
      ],
      "execution_count": 20,
      "outputs": [
        {
          "output_type": "stream",
          "name": "stdout",
          "text": [
            "Epoch 1/15\n",
            "8/8 [==============================] - 3s 238ms/step - loss: 1.5937 - accuracy: 0.6250\n",
            "Epoch 2/15\n",
            "8/8 [==============================] - 2s 228ms/step - loss: 0.4610 - accuracy: 0.7500\n",
            "Epoch 3/15\n",
            "8/8 [==============================] - 2s 229ms/step - loss: 0.2578 - accuracy: 0.8750\n",
            "Epoch 4/15\n",
            "8/8 [==============================] - 2s 228ms/step - loss: 0.2306 - accuracy: 0.9125\n",
            "Epoch 5/15\n",
            "8/8 [==============================] - 2s 231ms/step - loss: 0.1042 - accuracy: 0.9625\n",
            "Epoch 6/15\n",
            "8/8 [==============================] - 2s 228ms/step - loss: 0.1718 - accuracy: 0.9250\n",
            "Epoch 7/15\n",
            "8/8 [==============================] - 2s 231ms/step - loss: 0.0615 - accuracy: 0.9625\n",
            "Epoch 8/15\n",
            "8/8 [==============================] - 2s 229ms/step - loss: 0.0358 - accuracy: 0.9875\n",
            "Epoch 9/15\n",
            "8/8 [==============================] - 2s 229ms/step - loss: 0.0262 - accuracy: 0.9875\n",
            "Epoch 10/15\n",
            "8/8 [==============================] - 2s 228ms/step - loss: 0.0323 - accuracy: 0.9875\n",
            "Epoch 11/15\n",
            "8/8 [==============================] - ETA: 0s - loss: 0.0025 - accuracy: 1.0000\n",
            "Reached 99.9% accuracy so cancelling training!\n",
            "8/8 [==============================] - 2s 227ms/step - loss: 0.0025 - accuracy: 1.0000\n"
          ]
        }
      ]
    },
    {
      "cell_type": "code",
      "metadata": {
        "colab": {
          "base_uri": "https://localhost:8080/"
        },
        "id": "egIINWuDdjyg",
        "outputId": "e8b28cb4-6427-4c96-fe7e-d7f89a059403"
      },
      "source": [
        "history.history"
      ],
      "execution_count": 23,
      "outputs": [
        {
          "output_type": "execute_result",
          "data": {
            "text/plain": [
              "{'accuracy': [0.625,\n",
              "  0.75,\n",
              "  0.875,\n",
              "  0.9125000238418579,\n",
              "  0.9624999761581421,\n",
              "  0.925000011920929,\n",
              "  0.9624999761581421,\n",
              "  0.987500011920929,\n",
              "  0.987500011920929,\n",
              "  0.987500011920929,\n",
              "  1.0],\n",
              " 'loss': [1.5936660766601562,\n",
              "  0.4609639644622803,\n",
              "  0.2577721178531647,\n",
              "  0.23063747584819794,\n",
              "  0.10419225692749023,\n",
              "  0.17179623246192932,\n",
              "  0.06151462346315384,\n",
              "  0.035834766924381256,\n",
              "  0.026156341657042503,\n",
              "  0.0322665199637413,\n",
              "  0.0024997168220579624]}"
            ]
          },
          "metadata": {},
          "execution_count": 23
        }
      ]
    }
  ]
}